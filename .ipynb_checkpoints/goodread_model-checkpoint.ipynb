{
 "cells": [
  {
   "cell_type": "code",
   "execution_count": 307,
   "metadata": {},
   "outputs": [],
   "source": [
    "%matplotlib inline\n",
    "\n",
    "import pandas as pd\n",
    "import numpy as np\n",
    "import matplotlib.pyplot as plt\n",
    "import seaborn as sns\n",
    "import pickle, collections, operator\n",
    "from sklearn.model_selection import train_test_split, cross_val_score, cross_validate, KFold\n",
    "from sklearn.linear_model import LinearRegression, Lasso\n",
    "from sklearn.preprocessing import PolynomialFeatures, StandardScaler\n",
    "import scipy.stats as stats"
   ]
  },
  {
   "cell_type": "code",
   "execution_count": 308,
   "metadata": {},
   "outputs": [
    {
     "data": {
      "text/html": [
       "<div>\n",
       "<style scoped>\n",
       "    .dataframe tbody tr th:only-of-type {\n",
       "        vertical-align: middle;\n",
       "    }\n",
       "\n",
       "    .dataframe tbody tr th {\n",
       "        vertical-align: top;\n",
       "    }\n",
       "\n",
       "    .dataframe thead th {\n",
       "        text-align: right;\n",
       "    }\n",
       "</style>\n",
       "<table border=\"1\" class=\"dataframe\">\n",
       "  <thead>\n",
       "    <tr style=\"text-align: right;\">\n",
       "      <th></th>\n",
       "      <th>index</th>\n",
       "      <th>book_num</th>\n",
       "      <th>followers</th>\n",
       "      <th>pub_date</th>\n",
       "      <th>og_pub_date</th>\n",
       "      <th>avg_rating</th>\n",
       "      <th>pages</th>\n",
       "      <th>perc_like</th>\n",
       "      <th>trivia</th>\n",
       "      <th>quote_likes</th>\n",
       "      <th>rev_likes</th>\n",
       "      <th>num_revs</th>\n",
       "      <th>num_ratings</th>\n",
       "      <th>kindle_price</th>\n",
       "      <th>amzn_price</th>\n",
       "      <th>total_added</th>\n",
       "      <th>total_to_read</th>\n",
       "      <th>avg_added</th>\n",
       "      <th>avg_to_read</th>\n",
       "    </tr>\n",
       "  </thead>\n",
       "  <tbody>\n",
       "    <tr>\n",
       "      <td>count</td>\n",
       "      <td>1801.000000</td>\n",
       "      <td>1.801000e+03</td>\n",
       "      <td>1801.000000</td>\n",
       "      <td>1543.000000</td>\n",
       "      <td>755.000000</td>\n",
       "      <td>1801.000000</td>\n",
       "      <td>1444.000000</td>\n",
       "      <td>1801.000000</td>\n",
       "      <td>1801.000000</td>\n",
       "      <td>1801.000000</td>\n",
       "      <td>1801.000000</td>\n",
       "      <td>1801.000000</td>\n",
       "      <td>1.801000e+03</td>\n",
       "      <td>51.000000</td>\n",
       "      <td>124.000000</td>\n",
       "      <td>1.801000e+03</td>\n",
       "      <td>1.801000e+03</td>\n",
       "      <td>1801.000000</td>\n",
       "      <td>1801.000000</td>\n",
       "    </tr>\n",
       "    <tr>\n",
       "      <td>mean</td>\n",
       "      <td>900.000000</td>\n",
       "      <td>3.811812e+06</td>\n",
       "      <td>1019.981677</td>\n",
       "      <td>1995.296176</td>\n",
       "      <td>1984.888742</td>\n",
       "      <td>2.589217</td>\n",
       "      <td>257.235457</td>\n",
       "      <td>60.336480</td>\n",
       "      <td>0.160466</td>\n",
       "      <td>59.436979</td>\n",
       "      <td>10.702943</td>\n",
       "      <td>255.372571</td>\n",
       "      <td>8.434409e+03</td>\n",
       "      <td>14.929412</td>\n",
       "      <td>27.828065</td>\n",
       "      <td>1.197064e+04</td>\n",
       "      <td>2.807591e+03</td>\n",
       "      <td>4.156541</td>\n",
       "      <td>1.485003</td>\n",
       "    </tr>\n",
       "    <tr>\n",
       "      <td>std</td>\n",
       "      <td>520.048235</td>\n",
       "      <td>2.519350e+06</td>\n",
       "      <td>8910.677652</td>\n",
       "      <td>30.641558</td>\n",
       "      <td>39.391301</td>\n",
       "      <td>1.875735</td>\n",
       "      <td>246.956128</td>\n",
       "      <td>44.629923</td>\n",
       "      <td>4.272303</td>\n",
       "      <td>697.269675</td>\n",
       "      <td>66.612962</td>\n",
       "      <td>3249.339889</td>\n",
       "      <td>1.332274e+05</td>\n",
       "      <td>31.227801</td>\n",
       "      <td>69.360752</td>\n",
       "      <td>1.757196e+05</td>\n",
       "      <td>3.586473e+04</td>\n",
       "      <td>57.492032</td>\n",
       "      <td>19.021566</td>\n",
       "    </tr>\n",
       "    <tr>\n",
       "      <td>min</td>\n",
       "      <td>0.000000</td>\n",
       "      <td>5.289000e+03</td>\n",
       "      <td>0.000000</td>\n",
       "      <td>1010.000000</td>\n",
       "      <td>1601.000000</td>\n",
       "      <td>0.000000</td>\n",
       "      <td>0.000000</td>\n",
       "      <td>0.000000</td>\n",
       "      <td>0.000000</td>\n",
       "      <td>0.000000</td>\n",
       "      <td>0.000000</td>\n",
       "      <td>0.000000</td>\n",
       "      <td>0.000000e+00</td>\n",
       "      <td>0.000000</td>\n",
       "      <td>0.490000</td>\n",
       "      <td>0.000000e+00</td>\n",
       "      <td>0.000000e+00</td>\n",
       "      <td>0.000000</td>\n",
       "      <td>0.000000</td>\n",
       "    </tr>\n",
       "    <tr>\n",
       "      <td>25%</td>\n",
       "      <td>450.000000</td>\n",
       "      <td>1.601232e+06</td>\n",
       "      <td>0.000000</td>\n",
       "      <td>1991.000000</td>\n",
       "      <td>1983.000000</td>\n",
       "      <td>0.000000</td>\n",
       "      <td>124.000000</td>\n",
       "      <td>0.000000</td>\n",
       "      <td>0.000000</td>\n",
       "      <td>0.000000</td>\n",
       "      <td>0.000000</td>\n",
       "      <td>0.000000</td>\n",
       "      <td>0.000000e+00</td>\n",
       "      <td>4.990000</td>\n",
       "      <td>6.252500</td>\n",
       "      <td>0.000000e+00</td>\n",
       "      <td>0.000000e+00</td>\n",
       "      <td>0.000000</td>\n",
       "      <td>0.000000</td>\n",
       "    </tr>\n",
       "    <tr>\n",
       "      <td>50%</td>\n",
       "      <td>900.000000</td>\n",
       "      <td>3.515853e+06</td>\n",
       "      <td>1.000000</td>\n",
       "      <td>2000.000000</td>\n",
       "      <td>1996.000000</td>\n",
       "      <td>3.540000</td>\n",
       "      <td>224.000000</td>\n",
       "      <td>88.000000</td>\n",
       "      <td>0.000000</td>\n",
       "      <td>0.000000</td>\n",
       "      <td>0.000000</td>\n",
       "      <td>0.000000</td>\n",
       "      <td>3.000000e+00</td>\n",
       "      <td>8.310000</td>\n",
       "      <td>11.365000</td>\n",
       "      <td>8.000000e+00</td>\n",
       "      <td>4.000000e+00</td>\n",
       "      <td>0.000000</td>\n",
       "      <td>0.000000</td>\n",
       "    </tr>\n",
       "    <tr>\n",
       "      <td>75%</td>\n",
       "      <td>1350.000000</td>\n",
       "      <td>6.113094e+06</td>\n",
       "      <td>19.000000</td>\n",
       "      <td>2006.000000</td>\n",
       "      <td>2004.000000</td>\n",
       "      <td>4.000000</td>\n",
       "      <td>328.000000</td>\n",
       "      <td>100.000000</td>\n",
       "      <td>0.000000</td>\n",
       "      <td>0.000000</td>\n",
       "      <td>1.000000</td>\n",
       "      <td>4.000000</td>\n",
       "      <td>3.900000e+01</td>\n",
       "      <td>11.490000</td>\n",
       "      <td>25.707500</td>\n",
       "      <td>1.100000e+02</td>\n",
       "      <td>4.000000e+01</td>\n",
       "      <td>0.040936</td>\n",
       "      <td>0.023392</td>\n",
       "    </tr>\n",
       "    <tr>\n",
       "      <td>max</td>\n",
       "      <td>1800.000000</td>\n",
       "      <td>8.625407e+06</td>\n",
       "      <td>276972.000000</td>\n",
       "      <td>2019.000000</td>\n",
       "      <td>2010.000000</td>\n",
       "      <td>5.000000</td>\n",
       "      <td>3604.000000</td>\n",
       "      <td>100.000000</td>\n",
       "      <td>169.000000</td>\n",
       "      <td>15776.000000</td>\n",
       "      <td>1206.000000</td>\n",
       "      <td>98898.000000</td>\n",
       "      <td>4.510958e+06</td>\n",
       "      <td>209.220000</td>\n",
       "      <td>722.320000</td>\n",
       "      <td>5.391634e+06</td>\n",
       "      <td>1.082134e+06</td>\n",
       "      <td>1817.988304</td>\n",
       "      <td>627.883041</td>\n",
       "    </tr>\n",
       "  </tbody>\n",
       "</table>\n",
       "</div>"
      ],
      "text/plain": [
       "             index      book_num      followers     pub_date  og_pub_date  \\\n",
       "count  1801.000000  1.801000e+03    1801.000000  1543.000000   755.000000   \n",
       "mean    900.000000  3.811812e+06    1019.981677  1995.296176  1984.888742   \n",
       "std     520.048235  2.519350e+06    8910.677652    30.641558    39.391301   \n",
       "min       0.000000  5.289000e+03       0.000000  1010.000000  1601.000000   \n",
       "25%     450.000000  1.601232e+06       0.000000  1991.000000  1983.000000   \n",
       "50%     900.000000  3.515853e+06       1.000000  2000.000000  1996.000000   \n",
       "75%    1350.000000  6.113094e+06      19.000000  2006.000000  2004.000000   \n",
       "max    1800.000000  8.625407e+06  276972.000000  2019.000000  2010.000000   \n",
       "\n",
       "        avg_rating        pages    perc_like       trivia   quote_likes  \\\n",
       "count  1801.000000  1444.000000  1801.000000  1801.000000   1801.000000   \n",
       "mean      2.589217   257.235457    60.336480     0.160466     59.436979   \n",
       "std       1.875735   246.956128    44.629923     4.272303    697.269675   \n",
       "min       0.000000     0.000000     0.000000     0.000000      0.000000   \n",
       "25%       0.000000   124.000000     0.000000     0.000000      0.000000   \n",
       "50%       3.540000   224.000000    88.000000     0.000000      0.000000   \n",
       "75%       4.000000   328.000000   100.000000     0.000000      0.000000   \n",
       "max       5.000000  3604.000000   100.000000   169.000000  15776.000000   \n",
       "\n",
       "         rev_likes      num_revs   num_ratings  kindle_price  amzn_price  \\\n",
       "count  1801.000000   1801.000000  1.801000e+03     51.000000  124.000000   \n",
       "mean     10.702943    255.372571  8.434409e+03     14.929412   27.828065   \n",
       "std      66.612962   3249.339889  1.332274e+05     31.227801   69.360752   \n",
       "min       0.000000      0.000000  0.000000e+00      0.000000    0.490000   \n",
       "25%       0.000000      0.000000  0.000000e+00      4.990000    6.252500   \n",
       "50%       0.000000      0.000000  3.000000e+00      8.310000   11.365000   \n",
       "75%       1.000000      4.000000  3.900000e+01     11.490000   25.707500   \n",
       "max    1206.000000  98898.000000  4.510958e+06    209.220000  722.320000   \n",
       "\n",
       "        total_added  total_to_read    avg_added  avg_to_read  \n",
       "count  1.801000e+03   1.801000e+03  1801.000000  1801.000000  \n",
       "mean   1.197064e+04   2.807591e+03     4.156541     1.485003  \n",
       "std    1.757196e+05   3.586473e+04    57.492032    19.021566  \n",
       "min    0.000000e+00   0.000000e+00     0.000000     0.000000  \n",
       "25%    0.000000e+00   0.000000e+00     0.000000     0.000000  \n",
       "50%    8.000000e+00   4.000000e+00     0.000000     0.000000  \n",
       "75%    1.100000e+02   4.000000e+01     0.040936     0.023392  \n",
       "max    5.391634e+06   1.082134e+06  1817.988304   627.883041  "
      ]
     },
     "execution_count": 308,
     "metadata": {},
     "output_type": "execute_result"
    }
   ],
   "source": [
    "# load dataframe\n",
    "book_df = pd.read_pickle(\"data/book_data_final.pkl\")\n",
    "book_df.describe()"
   ]
  },
  {
   "cell_type": "code",
   "execution_count": 309,
   "metadata": {},
   "outputs": [
    {
     "name": "stdout",
     "output_type": "stream",
     "text": [
      "<class 'pandas.core.frame.DataFrame'>\n",
      "RangeIndex: 1801 entries, 0 to 1800\n",
      "Data columns (total 24 columns):\n",
      "index            1801 non-null int64\n",
      "book_num         1801 non-null int64\n",
      "title            1801 non-null object\n",
      "author           1801 non-null object\n",
      "followers        1801 non-null int64\n",
      "pub_date         1543 non-null float64\n",
      "og_pub_date      755 non-null float64\n",
      "avg_rating       1801 non-null float64\n",
      "genre            1784 non-null object\n",
      "binding          1801 non-null object\n",
      "pages            1444 non-null float64\n",
      "language         1799 non-null object\n",
      "perc_like        1801 non-null int64\n",
      "trivia           1801 non-null int64\n",
      "quote_likes      1801 non-null int64\n",
      "rev_likes        1801 non-null int64\n",
      "num_revs         1801 non-null int64\n",
      "num_ratings      1801 non-null int64\n",
      "kindle_price     51 non-null float64\n",
      "amzn_price       124 non-null float64\n",
      "total_added      1801 non-null int64\n",
      "total_to_read    1801 non-null int64\n",
      "avg_added        1801 non-null float64\n",
      "avg_to_read      1801 non-null float64\n",
      "dtypes: float64(8), int64(11), object(5)\n",
      "memory usage: 337.8+ KB\n"
     ]
    }
   ],
   "source": [
    "book_df.info()"
   ]
  },
  {
   "cell_type": "code",
   "execution_count": 310,
   "metadata": {
    "scrolled": true
   },
   "outputs": [],
   "source": [
    "# sns.pairplot(book_df.drop(['book_num'], axis=1));"
   ]
  },
  {
   "cell_type": "code",
   "execution_count": 311,
   "metadata": {},
   "outputs": [
    {
     "name": "stdout",
     "output_type": "stream",
     "text": [
      "<class 'pandas.core.frame.DataFrame'>\n",
      "Int64Index: 1790 entries, 0 to 1800\n",
      "Data columns (total 21 columns):\n",
      "book_num         1790 non-null int64\n",
      "title            1790 non-null object\n",
      "author           1790 non-null object\n",
      "followers        1790 non-null int64\n",
      "pub_date         1541 non-null float64\n",
      "og_pub_date      755 non-null float64\n",
      "avg_rating       1790 non-null float64\n",
      "genre            1773 non-null object\n",
      "binding          1790 non-null object\n",
      "pages            1443 non-null float64\n",
      "language         1788 non-null object\n",
      "perc_like        1790 non-null int64\n",
      "trivia           1790 non-null int64\n",
      "quote_likes      1790 non-null int64\n",
      "rev_likes        1790 non-null int64\n",
      "num_revs         1790 non-null int64\n",
      "num_ratings      1790 non-null int64\n",
      "total_added      1790 non-null int64\n",
      "total_to_read    1790 non-null int64\n",
      "avg_added        1790 non-null float64\n",
      "avg_to_read      1790 non-null float64\n",
      "dtypes: float64(6), int64(10), object(5)\n",
      "memory usage: 307.7+ KB\n"
     ]
    }
   ],
   "source": [
    "# filter out unknowns and bad columns\n",
    "mask = ((book_df.title != 'Unknown') & (book_df.author != 'Unknown'))\n",
    "book_df = book_df[mask].drop(['kindle_price', 'amzn_price', 'index'], axis=1)\n",
    "book_df.info()"
   ]
  },
  {
   "cell_type": "code",
   "execution_count": 313,
   "metadata": {},
   "outputs": [
    {
     "data": {
      "text/plain": [
       "Paperback          765\n",
       "Hardcover          582\n",
       "Unknown Binding    294\n",
       "ebook               69\n",
       "Other               44\n",
       "Audio               36\n",
       "Name: binding, dtype: int64"
      ]
     },
     "execution_count": 313,
     "metadata": {},
     "output_type": "execute_result"
    }
   ],
   "source": [
    "book_df.binding = book_df.binding\\\n",
    ".replace(['Kindle Edition', 'e book', 'Nook'], 'ebook')\\\n",
    ".replace('Mass Market Paperback', 'Paperback')\\\n",
    ".replace(['Audiobook', 'Audio CD', 'Audio Cassette'], 'Audio')\n",
    "\n",
    "binding_count = book_df.binding.value_counts()\n",
    "other = list(binding_count[binding_count <= 8].index)\n",
    "book_df.binding = book_df.binding.replace(other, 'Other')\n",
    "\n",
    "book_df.binding.value_counts()"
   ]
  },
  {
   "cell_type": "code",
   "execution_count": 286,
   "metadata": {},
   "outputs": [
    {
     "data": {
      "text/plain": [
       "Unknown            1132\n",
       "Other               220\n",
       "Fiction              54\n",
       "Nonfiction           48\n",
       "Mystery              42\n",
       "History              41\n",
       "Childrens            36\n",
       "Fantasy              26\n",
       "Classics             23\n",
       "Romance              20\n",
       "Historical           19\n",
       "Sequential Art       17\n",
       "Science              17\n",
       "Biography            15\n",
       "Religion             15\n",
       "Art                  14\n",
       "Poetry               12\n",
       "Science Fiction      11\n",
       "Philosophy           11\n",
       "Name: genre, dtype: int64"
      ]
     },
     "execution_count": 286,
     "metadata": {},
     "output_type": "execute_result"
    }
   ],
   "source": [
    "genre_count = book_df.genre.value_counts()\n",
    "other = list(genre_count[genre_count <= 10].index)\n",
    "\n",
    "book_df.genre = book_df.genre.replace(other, 'Other')\n",
    "book_df.genre.value_counts()"
   ]
  },
  {
   "cell_type": "code",
   "execution_count": 287,
   "metadata": {},
   "outputs": [
    {
     "data": {
      "text/plain": [
       "English       1182\n",
       "Unknown        449\n",
       "Spanish         49\n",
       "German          32\n",
       "French          25\n",
       "Other           13\n",
       "Italian          8\n",
       "Indonesian       8\n",
       "Portuguese       5\n",
       "Polish           5\n",
       "Arabic           4\n",
       "Dutch            4\n",
       "Japanese         4\n",
       "Name: language, dtype: int64"
      ]
     },
     "execution_count": 287,
     "metadata": {},
     "output_type": "execute_result"
    }
   ],
   "source": [
    "lang_count = book_df.language.value_counts()\n",
    "other = list(lang_count[lang_count < 4].index)\n",
    "\n",
    "book_df.language = book_df.language.replace(other, 'Other')\n",
    "book_df.language.value_counts()"
   ]
  },
  {
   "cell_type": "code",
   "execution_count": 341,
   "metadata": {},
   "outputs": [
    {
     "data": {
      "text/html": [
       "<div>\n",
       "<style scoped>\n",
       "    .dataframe tbody tr th:only-of-type {\n",
       "        vertical-align: middle;\n",
       "    }\n",
       "\n",
       "    .dataframe tbody tr th {\n",
       "        vertical-align: top;\n",
       "    }\n",
       "\n",
       "    .dataframe thead th {\n",
       "        text-align: right;\n",
       "    }\n",
       "</style>\n",
       "<table border=\"1\" class=\"dataframe\">\n",
       "  <thead>\n",
       "    <tr style=\"text-align: right;\">\n",
       "      <th></th>\n",
       "      <th>book_num</th>\n",
       "      <th>title</th>\n",
       "      <th>author</th>\n",
       "      <th>followers</th>\n",
       "      <th>pub_date</th>\n",
       "      <th>og_pub_date</th>\n",
       "      <th>avg_rating</th>\n",
       "      <th>genre</th>\n",
       "      <th>binding</th>\n",
       "      <th>pages</th>\n",
       "      <th>...</th>\n",
       "      <th>perc_like</th>\n",
       "      <th>trivia</th>\n",
       "      <th>quote_likes</th>\n",
       "      <th>rev_likes</th>\n",
       "      <th>num_revs</th>\n",
       "      <th>num_ratings</th>\n",
       "      <th>total_added</th>\n",
       "      <th>total_to_read</th>\n",
       "      <th>avg_added</th>\n",
       "      <th>avg_to_read</th>\n",
       "    </tr>\n",
       "  </thead>\n",
       "  <tbody>\n",
       "    <tr>\n",
       "      <td>18</td>\n",
       "      <td>1592409</td>\n",
       "      <td>Senkyūhyakuhachijūyonen</td>\n",
       "      <td>George Orwell</td>\n",
       "      <td>30197</td>\n",
       "      <td>NaN</td>\n",
       "      <td>NaN</td>\n",
       "      <td>4.17</td>\n",
       "      <td>NaN</td>\n",
       "      <td>Unknown Binding</td>\n",
       "      <td>NaN</td>\n",
       "      <td>...</td>\n",
       "      <td>94</td>\n",
       "      <td>0</td>\n",
       "      <td>13078</td>\n",
       "      <td>1190</td>\n",
       "      <td>60040</td>\n",
       "      <td>2692663</td>\n",
       "      <td>4139645</td>\n",
       "      <td>1082134</td>\n",
       "      <td>1817.988304</td>\n",
       "      <td>627.883041</td>\n",
       "    </tr>\n",
       "    <tr>\n",
       "      <td>259</td>\n",
       "      <td>69438</td>\n",
       "      <td>Crepúsculo</td>\n",
       "      <td>Stephenie Meyer</td>\n",
       "      <td>58712</td>\n",
       "      <td>2006.0</td>\n",
       "      <td>2005.0</td>\n",
       "      <td>3.59</td>\n",
       "      <td>NaN</td>\n",
       "      <td>Paperback</td>\n",
       "      <td>512.0</td>\n",
       "      <td>...</td>\n",
       "      <td>78</td>\n",
       "      <td>0</td>\n",
       "      <td>10198</td>\n",
       "      <td>965</td>\n",
       "      <td>98898</td>\n",
       "      <td>4510958</td>\n",
       "      <td>5391634</td>\n",
       "      <td>634932</td>\n",
       "      <td>1196.836257</td>\n",
       "      <td>258.251462</td>\n",
       "    </tr>\n",
       "    <tr>\n",
       "      <td>1540</td>\n",
       "      <td>5802013</td>\n",
       "      <td>A Tale of Two Cities</td>\n",
       "      <td>Charles Dickens</td>\n",
       "      <td>21408</td>\n",
       "      <td>2008.0</td>\n",
       "      <td>1859.0</td>\n",
       "      <td>3.83</td>\n",
       "      <td>Classics</td>\n",
       "      <td>Paperback</td>\n",
       "      <td>404.0</td>\n",
       "      <td>...</td>\n",
       "      <td>88</td>\n",
       "      <td>169</td>\n",
       "      <td>2727</td>\n",
       "      <td>675</td>\n",
       "      <td>15778</td>\n",
       "      <td>756962</td>\n",
       "      <td>1385416</td>\n",
       "      <td>502501</td>\n",
       "      <td>382.976608</td>\n",
       "      <td>189.625731</td>\n",
       "    </tr>\n",
       "    <tr>\n",
       "      <td>48</td>\n",
       "      <td>7801326</td>\n",
       "      <td>El dador de recuerdos</td>\n",
       "      <td>Lois Lowry</td>\n",
       "      <td>16518</td>\n",
       "      <td>2010.0</td>\n",
       "      <td>1993.0</td>\n",
       "      <td>4.12</td>\n",
       "      <td>NaN</td>\n",
       "      <td>Hardcover</td>\n",
       "      <td>240.0</td>\n",
       "      <td>...</td>\n",
       "      <td>94</td>\n",
       "      <td>0</td>\n",
       "      <td>5119</td>\n",
       "      <td>1206</td>\n",
       "      <td>61522</td>\n",
       "      <td>1573319</td>\n",
       "      <td>2212217</td>\n",
       "      <td>431672</td>\n",
       "      <td>706.947368</td>\n",
       "      <td>175.543860</td>\n",
       "    </tr>\n",
       "    <tr>\n",
       "      <td>1155</td>\n",
       "      <td>1057993</td>\n",
       "      <td>Crime and Punishment</td>\n",
       "      <td>Fyodor Dostoyevsky</td>\n",
       "      <td>31233</td>\n",
       "      <td>1981.0</td>\n",
       "      <td>1866.0</td>\n",
       "      <td>4.21</td>\n",
       "      <td>NaN</td>\n",
       "      <td>Paperback</td>\n",
       "      <td>472.0</td>\n",
       "      <td>...</td>\n",
       "      <td>94</td>\n",
       "      <td>0</td>\n",
       "      <td>6160</td>\n",
       "      <td>711</td>\n",
       "      <td>16232</td>\n",
       "      <td>552376</td>\n",
       "      <td>65053</td>\n",
       "      <td>410809</td>\n",
       "      <td>459.777778</td>\n",
       "      <td>219.988304</td>\n",
       "    </tr>\n",
       "  </tbody>\n",
       "</table>\n",
       "<p>5 rows × 21 columns</p>\n",
       "</div>"
      ],
      "text/plain": [
       "      book_num                    title              author  followers  \\\n",
       "18     1592409  Senkyūhyakuhachijūyonen       George Orwell      30197   \n",
       "259      69438               Crepúsculo     Stephenie Meyer      58712   \n",
       "1540   5802013     A Tale of Two Cities     Charles Dickens      21408   \n",
       "48     7801326    El dador de recuerdos          Lois Lowry      16518   \n",
       "1155   1057993     Crime and Punishment  Fyodor Dostoyevsky      31233   \n",
       "\n",
       "      pub_date  og_pub_date  avg_rating     genre          binding  pages  \\\n",
       "18         NaN          NaN        4.17       NaN  Unknown Binding    NaN   \n",
       "259     2006.0       2005.0        3.59       NaN        Paperback  512.0   \n",
       "1540    2008.0       1859.0        3.83  Classics        Paperback  404.0   \n",
       "48      2010.0       1993.0        4.12       NaN        Hardcover  240.0   \n",
       "1155    1981.0       1866.0        4.21       NaN        Paperback  472.0   \n",
       "\n",
       "      ... perc_like  trivia  quote_likes  rev_likes  num_revs  num_ratings  \\\n",
       "18    ...        94       0        13078       1190     60040      2692663   \n",
       "259   ...        78       0        10198        965     98898      4510958   \n",
       "1540  ...        88     169         2727        675     15778       756962   \n",
       "48    ...        94       0         5119       1206     61522      1573319   \n",
       "1155  ...        94       0         6160        711     16232       552376   \n",
       "\n",
       "      total_added  total_to_read    avg_added  avg_to_read  \n",
       "18        4139645        1082134  1817.988304   627.883041  \n",
       "259       5391634         634932  1196.836257   258.251462  \n",
       "1540      1385416         502501   382.976608   189.625731  \n",
       "48        2212217         431672   706.947368   175.543860  \n",
       "1155        65053         410809   459.777778   219.988304  \n",
       "\n",
       "[5 rows x 21 columns]"
      ]
     },
     "execution_count": 341,
     "metadata": {},
     "output_type": "execute_result"
    }
   ],
   "source": [
    "book_df.sort_values(by='total_to_read', ascending=False).head()"
   ]
  },
  {
   "cell_type": "code",
   "execution_count": 289,
   "metadata": {},
   "outputs": [],
   "source": [
    "# log processing number of likes of top quote\n",
    "book_df['log_quote_likes'] = book_df.quote_likes.apply(lambda x: np.log1p(x))"
   ]
  },
  {
   "cell_type": "code",
   "execution_count": 290,
   "metadata": {},
   "outputs": [
    {
     "name": "stdout",
     "output_type": "stream",
     "text": [
      "<class 'pandas.core.frame.DataFrame'>\n",
      "Int64Index: 1541 entries, 0 to 1800\n",
      "Data columns (total 22 columns):\n",
      "book_num           1541 non-null int64\n",
      "title              1541 non-null object\n",
      "author             1541 non-null object\n",
      "followers          1541 non-null int64\n",
      "pub_date           1541 non-null float64\n",
      "og_pub_date        1541 non-null float64\n",
      "avg_rating         1541 non-null float64\n",
      "genre              1541 non-null object\n",
      "binding            1541 non-null object\n",
      "pages              1541 non-null float64\n",
      "language           1541 non-null object\n",
      "perc_like          1541 non-null int64\n",
      "trivia             1541 non-null int64\n",
      "quote_likes        1541 non-null int64\n",
      "rev_likes          1541 non-null int64\n",
      "num_revs           1541 non-null int64\n",
      "num_ratings        1541 non-null int64\n",
      "total_added        1541 non-null int64\n",
      "total_to_read      1541 non-null int64\n",
      "avg_added          1541 non-null float64\n",
      "avg_to_read        1541 non-null float64\n",
      "log_quote_likes    1541 non-null float64\n",
      "dtypes: float64(7), int64(10), object(5)\n",
      "memory usage: 276.9+ KB\n"
     ]
    }
   ],
   "source": [
    "# clear NaNs\n",
    "book_df.og_pub_date = book_df.og_pub_date.fillna(book_df.pub_date)\n",
    "book_df = book_df.dropna(subset=['pub_date'])\n",
    "book_df.genre = book_df.genre.fillna('Unknown')\n",
    "book_df.pages = book_df.pages.fillna(book_df.pages.mean())\n",
    "book_df.language = book_df.language.fillna('Unknown')\n",
    "book_df.info()"
   ]
  },
  {
   "cell_type": "code",
   "execution_count": 291,
   "metadata": {},
   "outputs": [],
   "source": [
    "# create age feature\n",
    "book_df['age'] = book_df.pub_date - book_df.og_pub_date"
   ]
  },
  {
   "cell_type": "code",
   "execution_count": 292,
   "metadata": {},
   "outputs": [
    {
     "data": {
      "text/plain": [
       "('Unused features are:',\n",
       " ['book_num',\n",
       "  'title',\n",
       "  'author',\n",
       "  'pub_date',\n",
       "  'og_pub_date',\n",
       "  'avg_rating',\n",
       "  'genre',\n",
       "  'binding',\n",
       "  'language',\n",
       "  'quote_likes',\n",
       "  'total_to_read',\n",
       "  'avg_to_read'])"
      ]
     },
     "execution_count": 292,
     "metadata": {},
     "output_type": "execute_result"
    }
   ],
   "source": [
    "# select features and create train/test split\n",
    "feature_select = ['total_added', 'avg_added', 'followers', 'pages',\n",
    "                  'log_quote_likes', 'rev_likes', 'num_ratings',\n",
    "                   'num_revs', 'trivia', 'age', 'perc_like']\n",
    "\n",
    "remainder = book_df.columns.drop(feature_select)\n",
    "target = book_df.total_to_read \n",
    "features = book_df[feature_select]\n",
    "\n",
    "X_train, X_test, y_train, y_test = train_test_split(features, target, test_size=0.2, random_state=42)\n",
    "'Unused features are:', [feature for feature in remainder]"
   ]
  },
  {
   "cell_type": "code",
   "execution_count": 303,
   "metadata": {},
   "outputs": [
    {
     "name": "stdout",
     "output_type": "stream",
     "text": [
      "Linear Model Test Score: 0.6758949500546843\n"
     ]
    }
   ],
   "source": [
    "lm = LinearRegression()\n",
    "lm.fit(X_train, y_train)\n",
    "print('Linear Model Test Score:', lm.score(X_test, y_test)) # score on test data"
   ]
  },
  {
   "cell_type": "code",
   "execution_count": 304,
   "metadata": {},
   "outputs": [
    {
     "name": "stdout",
     "output_type": "stream",
     "text": [
      "Linear Model Train Score: 0.960086037687212\n"
     ]
    }
   ],
   "source": [
    "print('Linear Model Train Score:', lm.score(X_train, y_train)) # score on training data"
   ]
  },
  {
   "cell_type": "code",
   "execution_count": 296,
   "metadata": {},
   "outputs": [
    {
     "name": "stdout",
     "output_type": "stream",
     "text": [
      "Linear Model Average 5-Fold CV Score: 0.4419636277254657\n"
     ]
    }
   ],
   "source": [
    "# create KFold object and cross-validate model\n",
    "kf = KFold(n_splits=5, shuffle=True, random_state = 420)\n",
    "scores = cross_val_score(lm, features, target, cv=kf, scoring='r2')\n",
    "print('Linear Model Average 5-Fold CV Score:',np.mean(scores))"
   ]
  },
  {
   "cell_type": "code",
   "execution_count": 340,
   "metadata": {},
   "outputs": [
    {
     "data": {
      "image/png": "[encoded data removed]",
      "text/plain": [
       "<Figure size 1152x432 with 1 Axes>"
      ]
     },
     "metadata": {
      "needs_background": "light"
     },
     "output_type": "display_data"
    }
   ],
   "source": [
    "# plot feature coefficient variance\n",
    "cv_results = cross_validate(lm, X_train, y_train, cv=5, return_estimator=True)\n",
    "\n",
    "feat_coef = []\n",
    "for model in cv_results['estimator']:\n",
    "    feat_coef.append(list(zip(X_train.columns, model.coef_)))\n",
    "flat_feat = [item for sublist in feat_coef for item in sublist]\n",
    "\n",
    "d = defaultdict(list)\n",
    "for k, v in flat_feat:\n",
    "    d[k].append(v)\n",
    "sorted_d = sorted(d.items(), key=operator.itemgetter(1), reverse=True)\n",
    "x = [feat[0] for feat in sorted_d[:5]]\n",
    "y = [coef[1] for coef in sorted_d[:5]]\n",
    "\n",
    "plt.figure(figsize=(16, 6))\n",
    "ax = sns.boxplot(x,y, linewidth=2, palette='Set1')\n",
    "ax.set_title('Top 5 Predictive Features for Wanting to Read a Book on Goodreads (Linear)')\n",
    "ax.set_xlabel('Top Features')\n",
    "ax.set_ylabel('Correlation Coefficients')\n",
    "ax.set(xticklabels=['# of Trivia Questions', 'Quality of Book Quotes', 'Avg # Added to Bookshelf Per Day', 'Book\\'s Age', 'Number of Ratings']);"
   ]
  },
  {
   "cell_type": "code",
   "execution_count": 298,
   "metadata": {},
   "outputs": [
    {
     "data": {
      "image/png": "[encoded data removed]",
      "text/plain": [
       "<Figure size 720x432 with 1 Axes>"
      ]
     },
     "metadata": {},
     "output_type": "display_data"
    }
   ],
   "source": [
    "# residual plot\n",
    "book_df['predict'] = lm.predict(features)\n",
    "book_df['res'] = abs(book_df.predict - target)\n",
    "\n",
    "with sns.axes_style('white'):\n",
    "    plot=book_df.plot(kind='scatter',\n",
    "                  x='predict',y='res',alpha=0.3,figsize=(10,6))\n",
    "plt.title('Linear Model Residual Plot');"
   ]
  },
  {
   "cell_type": "code",
   "execution_count": 299,
   "metadata": {},
   "outputs": [
    {
     "data": {
      "image/png": "[encoded data removed]",
      "text/plain": [
       "<Figure size 432x288 with 1 Axes>"
      ]
     },
     "metadata": {
      "needs_background": "light"
     },
     "output_type": "display_data"
    }
   ],
   "source": [
    "# diagnose/inspect residual normality using qqplot:\n",
    "stats.probplot(book_df['res'], dist=\"norm\", plot=plt)\n",
    "plt.title(\"Normal Q-Q plot\")\n",
    "plt.show()"
   ]
  },
  {
   "cell_type": "code",
   "execution_count": 342,
   "metadata": {},
   "outputs": [
    {
     "name": "stdout",
     "output_type": "stream",
     "text": [
      "Lasso Model Average 5-Fold CV Score:: 0.6581947102005729\n"
     ]
    }
   ],
   "source": [
    "# scale and generate polynomial features for regularization\n",
    "std = StandardScaler()\n",
    "X_tr = std.fit_transform(X_train.values)\n",
    "X_te = std.transform(X_test.values)\n",
    "feat_transform = std.transform(features)\n",
    "p = PolynomialFeatures(degree=2)\n",
    "X_train_poly = p.fit_transform(X_tr)\n",
    "feat_poly = p.transform(feat_transform)\n",
    "\n",
    "lasso = Lasso(tol=0.1, alpha=0.01)\n",
    "lasso_fit = lasso.fit(X_train_poly, y_train)\n",
    "\n",
    "lasso_scores = cross_val_score(lasso_fit, feat_poly, target, cv=kf, scoring='r2')\n",
    "print('Lasso Model Average 5-Fold CV Score::', np.mean(lasso_scores))"
   ]
  },
  {
   "cell_type": "code",
   "execution_count": 339,
   "metadata": {},
   "outputs": [
    {
     "data": {
      "image/png": "[encoded data removed]",
      "text/plain": [
       "<Figure size 1152x432 with 1 Axes>"
      ]
     },
     "metadata": {
      "needs_background": "light"
     },
     "output_type": "display_data"
    }
   ],
   "source": [
    "# plot feature coefficient variance\n",
    "cv_results = cross_validate(lasso, X_train_poly, y_train, cv=5, return_estimator=True)\n",
    "\n",
    "feat_coef_lasso = []\n",
    "for model in cv_results['estimator']:\n",
    "    feat_coef_lasso.append(list(zip(p.get_feature_names(features.columns), model.coef_)))\n",
    "flat_feat_lasso = [item for sublist in feat_coef_lasso for item in sublist]\n",
    "\n",
    "d_lasso = defaultdict(list)\n",
    "for k, v in flat_feat_lasso:\n",
    "    d_lasso[k].append(v)\n",
    "sorted_d_lasso = sorted(d_lasso.items(), key=operator.itemgetter(1), reverse=True)\n",
    "x = [feat[0] for feat in sorted_d_lasso[1:4]] + [feat[0] for feat in sorted_d_lasso[-2:]]\n",
    "y = [coef[1] for coef in sorted_d_lasso[1:4]] + [feat[1] for feat in sorted_d_lasso[-2:]]\n",
    "\n",
    "plt.figure(figsize=(16, 6))\n",
    "ax = sns.boxplot(x,y, linewidth=2, palette='Set1')\n",
    "ax.set_title('Top 5 Predictive Features for Wanting to Read a Book on Goodreads (Lasso)')\n",
    "ax.set_xlabel('Top Features')\n",
    "ax.set_ylabel('Correlation Coefficients')\n",
    "ax.set(xticklabels=['# of Trivia Questions', 'Quality of Book Quotes', 'Avg # Added to Bookshelf Per Day', 'Interaction Btwn Quotes and Likes', 'Number of Ratings']);"
   ]
  },
  {
   "cell_type": "code",
   "execution_count": 305,
   "metadata": {},
   "outputs": [
    {
     "data": {
      "image/png": "[encoded data removed]",
      "text/plain": [
       "<Figure size 720x432 with 1 Axes>"
      ]
     },
     "metadata": {},
     "output_type": "display_data"
    }
   ],
   "source": [
    "# residual plot\n",
    "book_df['lasso_pred'] = lasso_fit.predict(p.transform(feat_transform))\n",
    "book_df['lasso_res'] = abs(book_df.lasso_pred - target)\n",
    "\n",
    "with sns.axes_style('white'):\n",
    "    plot=book_df.plot(kind='scatter',\n",
    "                  x='lasso_pred',y='lasso_res',alpha=0.2,figsize=(10,6), ylim=(0,1e5))\n",
    "plt.title('Lasso Regression Model Residual Plot');"
   ]
  },
  {
   "cell_type": "code",
   "execution_count": 302,
   "metadata": {},
   "outputs": [
    {
     "data": {
      "image/png": "[encoded data removed]",
      "text/plain": [
       "<Figure size 432x288 with 1 Axes>"
      ]
     },
     "metadata": {
      "needs_background": "light"
     },
     "output_type": "display_data"
    }
   ],
   "source": [
    "# diagnose/inspect residual normality using qqplot:\n",
    "stats.probplot(book_df['lasso_res'], dist=\"norm\", plot=plt)\n",
    "plt.title(\"Normal Q-Q plot\")\n",
    "plt.show()"
   ]
  },
  {
   "cell_type": "code",
   "execution_count": null,
   "metadata": {},
   "outputs": [],
   "source": []
  }
 ],
 "metadata": {
  "kernelspec": {
   "display_name": "Python 3",
   "language": "python",
   "name": "python3"
  },
  "language_info": {
   "codemirror_mode": {
    "name": "ipython",
    "version": 3
   },
   "file_extension": ".py",
   "mimetype": "text/x-python",
   "name": "python",
   "nbconvert_exporter": "python",
   "pygments_lexer": "ipython3",
   "version": "3.7.3"
  }
 },
 "nbformat": 4,
 "nbformat_minor": 2
}
