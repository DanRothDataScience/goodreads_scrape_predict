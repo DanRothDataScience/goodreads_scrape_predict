{
 "cells": [
  {
   "cell_type": "code",
   "execution_count": 477,
   "metadata": {},
   "outputs": [],
   "source": [
    "import pandas as pd\n",
    "import numpy as np\n",
    "import seaborn as sns\n",
    "import pickle\n",
    "from sklearn.model_selection import train_test_split, cross_val_score, KFold\n",
    "from sklearn.linear_model import LinearRegression"
   ]
  },
  {
   "cell_type": "code",
   "execution_count": 547,
   "metadata": {},
   "outputs": [
    {
     "data": {
      "text/html": [
       "<div>\n",
       "<style scoped>\n",
       "    .dataframe tbody tr th:only-of-type {\n",
       "        vertical-align: middle;\n",
       "    }\n",
       "\n",
       "    .dataframe tbody tr th {\n",
       "        vertical-align: top;\n",
       "    }\n",
       "\n",
       "    .dataframe thead th {\n",
       "        text-align: right;\n",
       "    }\n",
       "</style>\n",
       "<table border=\"1\" class=\"dataframe\">\n",
       "  <thead>\n",
       "    <tr style=\"text-align: right;\">\n",
       "      <th></th>\n",
       "      <th>book_num</th>\n",
       "      <th>followers</th>\n",
       "      <th>pub_date</th>\n",
       "      <th>og_pub_date</th>\n",
       "      <th>avg_rating</th>\n",
       "      <th>pages</th>\n",
       "      <th>perc_like</th>\n",
       "      <th>trivia</th>\n",
       "      <th>quote_likes</th>\n",
       "      <th>rev_likes</th>\n",
       "      <th>num_revs</th>\n",
       "      <th>num_ratings</th>\n",
       "      <th>kindle_price</th>\n",
       "      <th>amzn_price</th>\n",
       "      <th>total_added</th>\n",
       "      <th>total_to_read</th>\n",
       "      <th>avg_added</th>\n",
       "      <th>avg_to_read</th>\n",
       "    </tr>\n",
       "  </thead>\n",
       "  <tbody>\n",
       "    <tr>\n",
       "      <td>count</td>\n",
       "      <td>7.178000e+03</td>\n",
       "      <td>7178.000000</td>\n",
       "      <td>319.000000</td>\n",
       "      <td>166.000000</td>\n",
       "      <td>7178.000000</td>\n",
       "      <td>307.000000</td>\n",
       "      <td>7178.000000</td>\n",
       "      <td>7178.000000</td>\n",
       "      <td>7178.000000</td>\n",
       "      <td>7178.000000</td>\n",
       "      <td>7178.000000</td>\n",
       "      <td>7.178000e+03</td>\n",
       "      <td>58.000000</td>\n",
       "      <td>13.000000</td>\n",
       "      <td>7.178000e+03</td>\n",
       "      <td>7.178000e+03</td>\n",
       "      <td>7178.000000</td>\n",
       "      <td>7178.000000</td>\n",
       "    </tr>\n",
       "    <tr>\n",
       "      <td>mean</td>\n",
       "      <td>3.912209e+06</td>\n",
       "      <td>85.043188</td>\n",
       "      <td>1993.626959</td>\n",
       "      <td>1979.933735</td>\n",
       "      <td>0.140670</td>\n",
       "      <td>255.371336</td>\n",
       "      <td>3.312483</td>\n",
       "      <td>0.000836</td>\n",
       "      <td>4.632070</td>\n",
       "      <td>0.664113</td>\n",
       "      <td>22.017275</td>\n",
       "      <td>8.183044e+02</td>\n",
       "      <td>14.789483</td>\n",
       "      <td>18.779231</td>\n",
       "      <td>1.215412e+03</td>\n",
       "      <td>2.770836e+02</td>\n",
       "      <td>4.062330</td>\n",
       "      <td>1.382467</td>\n",
       "    </tr>\n",
       "    <tr>\n",
       "      <td>std</td>\n",
       "      <td>2.498723e+06</td>\n",
       "      <td>3491.525065</td>\n",
       "      <td>41.927333</td>\n",
       "      <td>65.204493</td>\n",
       "      <td>0.734739</td>\n",
       "      <td>237.090725</td>\n",
       "      <td>17.279788</td>\n",
       "      <td>0.052782</td>\n",
       "      <td>180.105361</td>\n",
       "      <td>21.898843</td>\n",
       "      <td>1027.394086</td>\n",
       "      <td>3.825757e+04</td>\n",
       "      <td>18.381087</td>\n",
       "      <td>17.040804</td>\n",
       "      <td>5.740476e+04</td>\n",
       "      <td>1.397727e+04</td>\n",
       "      <td>65.378510</td>\n",
       "      <td>18.199785</td>\n",
       "    </tr>\n",
       "    <tr>\n",
       "      <td>min</td>\n",
       "      <td>3.233000e+03</td>\n",
       "      <td>0.000000</td>\n",
       "      <td>1385.000000</td>\n",
       "      <td>1381.000000</td>\n",
       "      <td>0.000000</td>\n",
       "      <td>0.000000</td>\n",
       "      <td>0.000000</td>\n",
       "      <td>0.000000</td>\n",
       "      <td>0.000000</td>\n",
       "      <td>0.000000</td>\n",
       "      <td>0.000000</td>\n",
       "      <td>0.000000e+00</td>\n",
       "      <td>0.000000</td>\n",
       "      <td>2.490000</td>\n",
       "      <td>0.000000e+00</td>\n",
       "      <td>0.000000e+00</td>\n",
       "      <td>0.000000</td>\n",
       "      <td>0.000000</td>\n",
       "    </tr>\n",
       "    <tr>\n",
       "      <td>25%</td>\n",
       "      <td>1.716403e+06</td>\n",
       "      <td>0.000000</td>\n",
       "      <td>1992.000000</td>\n",
       "      <td>1981.000000</td>\n",
       "      <td>0.000000</td>\n",
       "      <td>127.000000</td>\n",
       "      <td>0.000000</td>\n",
       "      <td>0.000000</td>\n",
       "      <td>0.000000</td>\n",
       "      <td>0.000000</td>\n",
       "      <td>0.000000</td>\n",
       "      <td>0.000000e+00</td>\n",
       "      <td>3.832500</td>\n",
       "      <td>6.570000</td>\n",
       "      <td>0.000000e+00</td>\n",
       "      <td>0.000000e+00</td>\n",
       "      <td>0.000000</td>\n",
       "      <td>0.000000</td>\n",
       "    </tr>\n",
       "    <tr>\n",
       "      <td>50%</td>\n",
       "      <td>3.680796e+06</td>\n",
       "      <td>0.000000</td>\n",
       "      <td>2000.000000</td>\n",
       "      <td>1994.000000</td>\n",
       "      <td>0.000000</td>\n",
       "      <td>214.000000</td>\n",
       "      <td>0.000000</td>\n",
       "      <td>0.000000</td>\n",
       "      <td>0.000000</td>\n",
       "      <td>0.000000</td>\n",
       "      <td>0.000000</td>\n",
       "      <td>0.000000e+00</td>\n",
       "      <td>9.990000</td>\n",
       "      <td>15.290000</td>\n",
       "      <td>0.000000e+00</td>\n",
       "      <td>0.000000e+00</td>\n",
       "      <td>0.000000</td>\n",
       "      <td>0.000000</td>\n",
       "    </tr>\n",
       "    <tr>\n",
       "      <td>75%</td>\n",
       "      <td>6.143775e+06</td>\n",
       "      <td>0.000000</td>\n",
       "      <td>2006.000000</td>\n",
       "      <td>2002.750000</td>\n",
       "      <td>0.000000</td>\n",
       "      <td>327.000000</td>\n",
       "      <td>0.000000</td>\n",
       "      <td>0.000000</td>\n",
       "      <td>0.000000</td>\n",
       "      <td>0.000000</td>\n",
       "      <td>0.000000</td>\n",
       "      <td>0.000000e+00</td>\n",
       "      <td>15.907500</td>\n",
       "      <td>21.530000</td>\n",
       "      <td>0.000000e+00</td>\n",
       "      <td>0.000000e+00</td>\n",
       "      <td>0.039525</td>\n",
       "      <td>0.017647</td>\n",
       "    </tr>\n",
       "    <tr>\n",
       "      <td>max</td>\n",
       "      <td>8.627540e+06</td>\n",
       "      <td>276883.000000</td>\n",
       "      <td>2013.000000</td>\n",
       "      <td>2010.000000</td>\n",
       "      <td>5.000000</td>\n",
       "      <td>2752.000000</td>\n",
       "      <td>100.000000</td>\n",
       "      <td>4.000000</td>\n",
       "      <td>13069.000000</td>\n",
       "      <td>1206.000000</td>\n",
       "      <td>61468.000000</td>\n",
       "      <td>2.691092e+06</td>\n",
       "      <td>78.360000</td>\n",
       "      <td>63.820000</td>\n",
       "      <td>4.136582e+06</td>\n",
       "      <td>1.081219e+06</td>\n",
       "      <td>2790.497076</td>\n",
       "      <td>631.158824</td>\n",
       "    </tr>\n",
       "  </tbody>\n",
       "</table>\n",
       "</div>"
      ],
      "text/plain": [
       "           book_num      followers     pub_date  og_pub_date   avg_rating  \\\n",
       "count  7.178000e+03    7178.000000   319.000000   166.000000  7178.000000   \n",
       "mean   3.912209e+06      85.043188  1993.626959  1979.933735     0.140670   \n",
       "std    2.498723e+06    3491.525065    41.927333    65.204493     0.734739   \n",
       "min    3.233000e+03       0.000000  1385.000000  1381.000000     0.000000   \n",
       "25%    1.716403e+06       0.000000  1992.000000  1981.000000     0.000000   \n",
       "50%    3.680796e+06       0.000000  2000.000000  1994.000000     0.000000   \n",
       "75%    6.143775e+06       0.000000  2006.000000  2002.750000     0.000000   \n",
       "max    8.627540e+06  276883.000000  2013.000000  2010.000000     5.000000   \n",
       "\n",
       "             pages    perc_like       trivia   quote_likes    rev_likes  \\\n",
       "count   307.000000  7178.000000  7178.000000   7178.000000  7178.000000   \n",
       "mean    255.371336     3.312483     0.000836      4.632070     0.664113   \n",
       "std     237.090725    17.279788     0.052782    180.105361    21.898843   \n",
       "min       0.000000     0.000000     0.000000      0.000000     0.000000   \n",
       "25%     127.000000     0.000000     0.000000      0.000000     0.000000   \n",
       "50%     214.000000     0.000000     0.000000      0.000000     0.000000   \n",
       "75%     327.000000     0.000000     0.000000      0.000000     0.000000   \n",
       "max    2752.000000   100.000000     4.000000  13069.000000  1206.000000   \n",
       "\n",
       "           num_revs   num_ratings  kindle_price  amzn_price   total_added  \\\n",
       "count   7178.000000  7.178000e+03     58.000000   13.000000  7.178000e+03   \n",
       "mean      22.017275  8.183044e+02     14.789483   18.779231  1.215412e+03   \n",
       "std     1027.394086  3.825757e+04     18.381087   17.040804  5.740476e+04   \n",
       "min        0.000000  0.000000e+00      0.000000    2.490000  0.000000e+00   \n",
       "25%        0.000000  0.000000e+00      3.832500    6.570000  0.000000e+00   \n",
       "50%        0.000000  0.000000e+00      9.990000   15.290000  0.000000e+00   \n",
       "75%        0.000000  0.000000e+00     15.907500   21.530000  0.000000e+00   \n",
       "max    61468.000000  2.691092e+06     78.360000   63.820000  4.136582e+06   \n",
       "\n",
       "       total_to_read    avg_added  avg_to_read  \n",
       "count   7.178000e+03  7178.000000  7178.000000  \n",
       "mean    2.770836e+02     4.062330     1.382467  \n",
       "std     1.397727e+04    65.378510    18.199785  \n",
       "min     0.000000e+00     0.000000     0.000000  \n",
       "25%     0.000000e+00     0.000000     0.000000  \n",
       "50%     0.000000e+00     0.000000     0.000000  \n",
       "75%     0.000000e+00     0.039525     0.017647  \n",
       "max     1.081219e+06  2790.497076   631.158824  "
      ]
     },
     "execution_count": 547,
     "metadata": {},
     "output_type": "execute_result"
    }
   ],
   "source": [
    "book_df = pd.read_pickle(\"data/book_data.pkl\")\n",
    "# book_df[['pub_date', 'og_pub_date']] = book_df[['pub_date','og_pub_date']].fillna(0)\n",
    "book_df.describe()"
   ]
  },
  {
   "cell_type": "code",
   "execution_count": 548,
   "metadata": {},
   "outputs": [
    {
     "name": "stdout",
     "output_type": "stream",
     "text": [
      "<class 'pandas.core.frame.DataFrame'>\n",
      "Int64Index: 7178 entries, 0 to 7177\n",
      "Data columns (total 23 columns):\n",
      "book_num         7178 non-null int64\n",
      "title            7178 non-null object\n",
      "author           7178 non-null object\n",
      "followers        7178 non-null int64\n",
      "pub_date         319 non-null float64\n",
      "og_pub_date      166 non-null float64\n",
      "avg_rating       7178 non-null float64\n",
      "genre            7174 non-null object\n",
      "binding          7178 non-null object\n",
      "pages            307 non-null float64\n",
      "language         7178 non-null object\n",
      "perc_like        7178 non-null int64\n",
      "trivia           7178 non-null int64\n",
      "quote_likes      7178 non-null int64\n",
      "rev_likes        7178 non-null int64\n",
      "num_revs         7178 non-null int64\n",
      "num_ratings      7178 non-null int64\n",
      "kindle_price     58 non-null float64\n",
      "amzn_price       13 non-null float64\n",
      "total_added      7178 non-null int64\n",
      "total_to_read    7178 non-null int64\n",
      "avg_added        7178 non-null float64\n",
      "avg_to_read      7178 non-null float64\n",
      "dtypes: float64(8), int64(10), object(5)\n",
      "memory usage: 1.3+ MB\n"
     ]
    }
   ],
   "source": [
    "book_df.info()"
   ]
  },
  {
   "cell_type": "code",
   "execution_count": 549,
   "metadata": {
    "scrolled": true
   },
   "outputs": [],
   "source": [
    "# sns.pairplot(book_df.drop(['book_num','trivia'], axis=1));"
   ]
  },
  {
   "cell_type": "code",
   "execution_count": 550,
   "metadata": {},
   "outputs": [],
   "source": [
    "mask = ((book_df.title != 'Unknown') & (book_df.author != 'Unknown'))\n",
    "book_df = book_df[mask]"
   ]
  },
  {
   "cell_type": "code",
   "execution_count": 551,
   "metadata": {},
   "outputs": [
    {
     "data": {
      "text/plain": [
       "Paperback          156\n",
       "Hardcover          126\n",
       "Unknown Binding     67\n",
       "ebook               16\n",
       "Audio               11\n",
       "Other                6\n",
       "Name: binding, dtype: int64"
      ]
     },
     "execution_count": 551,
     "metadata": {},
     "output_type": "execute_result"
    }
   ],
   "source": [
    "book_df.binding = book_df.binding\\\n",
    ".replace(['Kindle Edition', 'e book', 'Nook'], 'ebook')\\\n",
    ".replace('Mass Market Paperback', 'Paperback')\\\n",
    ".replace(['Audiobook', 'Audio CD', 'Audio Cassette'], 'Audio')\n",
    "\n",
    "binding_count = book_df.binding.value_counts()\n",
    "other = list(binding_count[binding_count <= 7].index)\n",
    "book_df.binding = book_df.binding.replace(other, 'Other')\n",
    "\n",
    "book_df.binding.value_counts()"
   ]
  },
  {
   "cell_type": "code",
   "execution_count": 552,
   "metadata": {},
   "outputs": [
    {
     "data": {
      "text/plain": [
       "Unknown           235\n",
       "Other              39\n",
       "Nonfiction         12\n",
       "History            12\n",
       "Fiction            10\n",
       "Fantasy             6\n",
       "Historical          6\n",
       "Religion            6\n",
       "Art                 5\n",
       "Childrens           5\n",
       "Poetry              4\n",
       "Science             4\n",
       "Sequential Art      4\n",
       "Philosophy          4\n",
       "Classics            4\n",
       "Mystery             4\n",
       "Business            3\n",
       "Reference           3\n",
       "Christian           3\n",
       "Plays               3\n",
       "Biography           3\n",
       "Psychology          3\n",
       "Name: genre, dtype: int64"
      ]
     },
     "execution_count": 552,
     "metadata": {},
     "output_type": "execute_result"
    }
   ],
   "source": [
    "genre_count = book_df.genre.value_counts()\n",
    "other = list(genre_count[genre_count <= 2].index)\n",
    "\n",
    "book_df.genre = book_df.genre.replace(other, 'Other')\n",
    "book_df.genre.value_counts()"
   ]
  },
  {
   "cell_type": "code",
   "execution_count": 553,
   "metadata": {},
   "outputs": [
    {
     "data": {
      "text/plain": [
       "English       263\n",
       "Unknown        95\n",
       "Spanish        10\n",
       "French          4\n",
       "Other           4\n",
       "Chinese         2\n",
       "Indonesian      2\n",
       "Dutch           2\n",
       "Name: language, dtype: int64"
      ]
     },
     "execution_count": 553,
     "metadata": {},
     "output_type": "execute_result"
    }
   ],
   "source": [
    "lang_count = book_df.language.value_counts()\n",
    "other = list(lang_count[lang_count < 2].index)\n",
    "\n",
    "book_df.language = book_df.language.replace(other, 'Other')\n",
    "book_df.language.value_counts()"
   ]
  },
  {
   "cell_type": "code",
   "execution_count": 554,
   "metadata": {},
   "outputs": [],
   "source": [
    "book_df.followers = book_df.followers.apply(lambda x: np.log(x))\n",
    "book_df = book_df.replace([np.inf, -np.inf], np.nan)\n",
    "book_df.followers = book_df.followers.fillna(0)"
   ]
  },
  {
   "cell_type": "code",
   "execution_count": 555,
   "metadata": {},
   "outputs": [],
   "source": [
    "book_df.quote_likes = book_df.quote_likes.apply(lambda x: np.log(x))\n",
    "book_df = book_df.replace([np.inf, -np.inf], np.nan)\n",
    "book_df.quote_likes = book_df.quote_likes.fillna(0)"
   ]
  },
  {
   "cell_type": "code",
   "execution_count": 556,
   "metadata": {},
   "outputs": [],
   "source": [
    "book_df.rev_likes = book_df.rev_likes.apply(lambda x: np.log(x))\n",
    "book_df = book_df.replace([np.inf, -np.inf], np.nan)\n",
    "book_df.rev_likes = book_df.rev_likes.fillna(0)"
   ]
  },
  {
   "cell_type": "code",
   "execution_count": 557,
   "metadata": {},
   "outputs": [],
   "source": [
    "book_df.num_revs = book_df.num_revs.apply(lambda x: np.log(x))\n",
    "book_df = book_df.replace([np.inf, -np.inf], np.nan)\n",
    "book_df.num_revs = book_df.num_revs.fillna(0)"
   ]
  },
  {
   "cell_type": "code",
   "execution_count": 558,
   "metadata": {},
   "outputs": [],
   "source": [
    "book_df['likes_per_rev'] = book_df.rev_likes / book_df.num_revs\n",
    "book_df = book_df.replace([np.inf, -np.inf], np.nan)\n",
    "book_df.likes_per_rev = book_df.likes_per_rev.fillna(0)"
   ]
  },
  {
   "cell_type": "code",
   "execution_count": 576,
   "metadata": {},
   "outputs": [],
   "source": [
    "feature_select = ['followers', 'avg_added', 'total_added', 'quote_likes',\n",
    "                  'rev_likes', 'total_to_read', 'num_ratings', 'num_revs',\n",
    "                  'likes_per_rev']\n",
    "\n",
    "remain = book_df.drop(feature_select, axis=1).columns\n",
    "target = book_df.avg_to_read \n",
    "features = book_df[feature_select]\n",
    "\n",
    "X_train, X_test, y_train, y_test = train_test_split(features, target, test_size=0.2, random_state=42)"
   ]
  },
  {
   "cell_type": "code",
   "execution_count": 577,
   "metadata": {},
   "outputs": [
    {
     "data": {
      "text/plain": [
       "0.9656542670084843"
      ]
     },
     "execution_count": 577,
     "metadata": {},
     "output_type": "execute_result"
    }
   ],
   "source": [
    "lm = LinearRegression()\n",
    "lm.fit(X_train, y_train)\n",
    "lm.score(X_test, y_test) # score on test data"
   ]
  },
  {
   "cell_type": "code",
   "execution_count": 578,
   "metadata": {},
   "outputs": [
    {
     "data": {
      "text/plain": [
       "0.9997055017447369"
      ]
     },
     "execution_count": 578,
     "metadata": {},
     "output_type": "execute_result"
    }
   ],
   "source": [
    "lm.score(X_train, y_train) # score on training data"
   ]
  },
  {
   "cell_type": "code",
   "execution_count": 579,
   "metadata": {},
   "outputs": [
    {
     "data": {
      "text/plain": [
       "[('followers', -0.012989033733496868),\n",
       " ('avg_added', 0.23973202804653887),\n",
       " ('total_added', 3.685778902679444e-05),\n",
       " ('quote_likes', 0.03790262559465882),\n",
       " ('rev_likes', -0.048795200540695464),\n",
       " ('total_to_read', 0.00015203825328827502),\n",
       " ('num_ratings', -8.943566053757474e-05),\n",
       " ('num_revs', -0.014242264785987146),\n",
       " ('likes_per_rev', 0.3684177679842617)]"
      ]
     },
     "execution_count": 579,
     "metadata": {},
     "output_type": "execute_result"
    }
   ],
   "source": [
    "list(zip(X_train.columns, lm.coef_))"
   ]
  },
  {
   "cell_type": "code",
   "execution_count": 580,
   "metadata": {
    "scrolled": false
   },
   "outputs": [
    {
     "data": {
      "text/html": [
       "<div>\n",
       "<style scoped>\n",
       "    .dataframe tbody tr th:only-of-type {\n",
       "        vertical-align: middle;\n",
       "    }\n",
       "\n",
       "    .dataframe tbody tr th {\n",
       "        vertical-align: top;\n",
       "    }\n",
       "\n",
       "    .dataframe thead th {\n",
       "        text-align: right;\n",
       "    }\n",
       "</style>\n",
       "<table border=\"1\" class=\"dataframe\">\n",
       "  <thead>\n",
       "    <tr style=\"text-align: right;\">\n",
       "      <th></th>\n",
       "      <th>book_num</th>\n",
       "      <th>title</th>\n",
       "      <th>author</th>\n",
       "      <th>followers</th>\n",
       "      <th>pub_date</th>\n",
       "      <th>og_pub_date</th>\n",
       "      <th>avg_rating</th>\n",
       "      <th>genre</th>\n",
       "      <th>binding</th>\n",
       "      <th>pages</th>\n",
       "      <th>...</th>\n",
       "      <th>num_revs</th>\n",
       "      <th>num_ratings</th>\n",
       "      <th>kindle_price</th>\n",
       "      <th>amzn_price</th>\n",
       "      <th>total_added</th>\n",
       "      <th>total_to_read</th>\n",
       "      <th>avg_added</th>\n",
       "      <th>avg_to_read</th>\n",
       "      <th>likes_per_rev</th>\n",
       "      <th>res</th>\n",
       "    </tr>\n",
       "  </thead>\n",
       "  <tbody>\n",
       "    <tr>\n",
       "      <td>0</td>\n",
       "      <td>4158881</td>\n",
       "      <td>Tribe of Women: A Photojournalist Chronicles t...</td>\n",
       "      <td>Connie Bickman</td>\n",
       "      <td>0.0</td>\n",
       "      <td>2001.0</td>\n",
       "      <td>NaN</td>\n",
       "      <td>4.56</td>\n",
       "      <td>Unknown</td>\n",
       "      <td>Hardcover</td>\n",
       "      <td>160.0</td>\n",
       "      <td>...</td>\n",
       "      <td>0.0</td>\n",
       "      <td>9</td>\n",
       "      <td>NaN</td>\n",
       "      <td>16.67</td>\n",
       "      <td>19</td>\n",
       "      <td>8</td>\n",
       "      <td>0.005882</td>\n",
       "      <td>0.005882</td>\n",
       "      <td>0.0</td>\n",
       "      <td>0.009645</td>\n",
       "    </tr>\n",
       "    <tr>\n",
       "      <td>1</td>\n",
       "      <td>3164992</td>\n",
       "      <td>From Bento To Mixed Plate: Americans Of Japane...</td>\n",
       "      <td>Arnold T. Hiura</td>\n",
       "      <td>0.0</td>\n",
       "      <td>NaN</td>\n",
       "      <td>NaN</td>\n",
       "      <td>4.00</td>\n",
       "      <td>Unknown</td>\n",
       "      <td>Unknown Binding</td>\n",
       "      <td>215.0</td>\n",
       "      <td>...</td>\n",
       "      <td>0.0</td>\n",
       "      <td>1</td>\n",
       "      <td>NaN</td>\n",
       "      <td>NaN</td>\n",
       "      <td>4</td>\n",
       "      <td>0</td>\n",
       "      <td>0.000000</td>\n",
       "      <td>0.000000</td>\n",
       "      <td>0.0</td>\n",
       "      <td>0.013063</td>\n",
       "    </tr>\n",
       "    <tr>\n",
       "      <td>2</td>\n",
       "      <td>7758777</td>\n",
       "      <td>Mental Incarceration</td>\n",
       "      <td>Jullian Smallwood</td>\n",
       "      <td>0.0</td>\n",
       "      <td>2009.0</td>\n",
       "      <td>NaN</td>\n",
       "      <td>5.00</td>\n",
       "      <td>Unknown</td>\n",
       "      <td>Paperback</td>\n",
       "      <td>300.0</td>\n",
       "      <td>...</td>\n",
       "      <td>0.0</td>\n",
       "      <td>1</td>\n",
       "      <td>NaN</td>\n",
       "      <td>19.99</td>\n",
       "      <td>0</td>\n",
       "      <td>0</td>\n",
       "      <td>0.000000</td>\n",
       "      <td>0.000000</td>\n",
       "      <td>0.0</td>\n",
       "      <td>0.012916</td>\n",
       "    </tr>\n",
       "    <tr>\n",
       "      <td>3</td>\n",
       "      <td>3588329</td>\n",
       "      <td>A New Treatise on Accompaniment: With the Harp...</td>\n",
       "      <td>Michel De Saint-Lambert</td>\n",
       "      <td>0.0</td>\n",
       "      <td>1991.0</td>\n",
       "      <td>NaN</td>\n",
       "      <td>0.00</td>\n",
       "      <td>Unknown</td>\n",
       "      <td>Paperback</td>\n",
       "      <td>180.0</td>\n",
       "      <td>...</td>\n",
       "      <td>0.0</td>\n",
       "      <td>0</td>\n",
       "      <td>NaN</td>\n",
       "      <td>NaN</td>\n",
       "      <td>0</td>\n",
       "      <td>0</td>\n",
       "      <td>0.000000</td>\n",
       "      <td>0.000000</td>\n",
       "      <td>0.0</td>\n",
       "      <td>0.013005</td>\n",
       "    </tr>\n",
       "    <tr>\n",
       "      <td>4</td>\n",
       "      <td>3743805</td>\n",
       "      <td>Modern art in prints</td>\n",
       "      <td>Riva Castleman</td>\n",
       "      <td>0.0</td>\n",
       "      <td>1973.0</td>\n",
       "      <td>1973.0</td>\n",
       "      <td>0.00</td>\n",
       "      <td>Unknown</td>\n",
       "      <td>Unknown Binding</td>\n",
       "      <td>75.0</td>\n",
       "      <td>...</td>\n",
       "      <td>0.0</td>\n",
       "      <td>0</td>\n",
       "      <td>NaN</td>\n",
       "      <td>NaN</td>\n",
       "      <td>0</td>\n",
       "      <td>0</td>\n",
       "      <td>0.000000</td>\n",
       "      <td>0.000000</td>\n",
       "      <td>0.0</td>\n",
       "      <td>0.013005</td>\n",
       "    </tr>\n",
       "  </tbody>\n",
       "</table>\n",
       "<p>5 rows × 25 columns</p>\n",
       "</div>"
      ],
      "text/plain": [
       "   book_num                                              title  \\\n",
       "0   4158881  Tribe of Women: A Photojournalist Chronicles t...   \n",
       "1   3164992  From Bento To Mixed Plate: Americans Of Japane...   \n",
       "2   7758777                               Mental Incarceration   \n",
       "3   3588329  A New Treatise on Accompaniment: With the Harp...   \n",
       "4   3743805                               Modern art in prints   \n",
       "\n",
       "                    author  followers  pub_date  og_pub_date  avg_rating  \\\n",
       "0           Connie Bickman        0.0    2001.0          NaN        4.56   \n",
       "1          Arnold T. Hiura        0.0       NaN          NaN        4.00   \n",
       "2        Jullian Smallwood        0.0    2009.0          NaN        5.00   \n",
       "3  Michel De Saint-Lambert        0.0    1991.0          NaN        0.00   \n",
       "4           Riva Castleman        0.0    1973.0       1973.0        0.00   \n",
       "\n",
       "     genre          binding  pages  ... num_revs  num_ratings  kindle_price  \\\n",
       "0  Unknown        Hardcover  160.0  ...      0.0            9           NaN   \n",
       "1  Unknown  Unknown Binding  215.0  ...      0.0            1           NaN   \n",
       "2  Unknown        Paperback  300.0  ...      0.0            1           NaN   \n",
       "3  Unknown        Paperback  180.0  ...      0.0            0           NaN   \n",
       "4  Unknown  Unknown Binding   75.0  ...      0.0            0           NaN   \n",
       "\n",
       "   amzn_price  total_added  total_to_read  avg_added  avg_to_read  \\\n",
       "0       16.67           19              8   0.005882     0.005882   \n",
       "1         NaN            4              0   0.000000     0.000000   \n",
       "2       19.99            0              0   0.000000     0.000000   \n",
       "3         NaN            0              0   0.000000     0.000000   \n",
       "4         NaN            0              0   0.000000     0.000000   \n",
       "\n",
       "   likes_per_rev       res  \n",
       "0            0.0  0.009645  \n",
       "1            0.0  0.013063  \n",
       "2            0.0  0.012916  \n",
       "3            0.0  0.013005  \n",
       "4            0.0  0.013005  \n",
       "\n",
       "[5 rows x 25 columns]"
      ]
     },
     "execution_count": 580,
     "metadata": {},
     "output_type": "execute_result"
    }
   ],
   "source": [
    "book_df['res'] = abs(lm.predict(book_df[feature_select]) - target)\n",
    "book_df.head()"
   ]
  },
  {
   "cell_type": "code",
   "execution_count": 581,
   "metadata": {},
   "outputs": [],
   "source": [
    "def split_and_validate(X, y):\n",
    "    '''\n",
    "    For a set of features and target X, y, perform a 80/20 train/val split, \n",
    "    fit and validate a linear regression model, and report results\n",
    "    '''\n",
    "    \n",
    "    # perform train/val split\n",
    "    X_train, X_val, y_train, y_val = \\\n",
    "        train_test_split(X, y, test_size=0.2, random_state=420)\n",
    "    \n",
    "    # fit linear regression to training data\n",
    "    lr_model = LinearRegression()\n",
    "    lr_model.fit(X_train, y_train)\n",
    "    \n",
    "    # score fit model on validation data\n",
    "    val_score = lr_model.score(X_val, y_val)\n",
    "    \n",
    "    # report results\n",
    "    print('\\nValidation R^2 score was:', val_score)\n",
    "    print('Feature coefficient results: \\n')\n",
    "    for feature, coef in zip(X.columns, lr_model.coef_):\n",
    "        print(feature, ':', f'{coef:.2f}') "
   ]
  },
  {
   "cell_type": "code",
   "execution_count": 582,
   "metadata": {},
   "outputs": [
    {
     "name": "stdout",
     "output_type": "stream",
     "text": [
      "\n",
      "Validation R^2 score was: 0.9972385512051657\n",
      "Feature coefficient results: \n",
      "\n",
      "followers : -0.01\n",
      "avg_added : 0.36\n",
      "total_added : 0.00\n",
      "quote_likes : 0.05\n",
      "rev_likes : -0.25\n",
      "total_to_read : 0.00\n",
      "num_ratings : -0.00\n",
      "num_revs : -0.01\n",
      "likes_per_rev : 0.93\n",
      "language_Dutch : 0.03\n",
      "language_English : -0.00\n",
      "language_French : 0.01\n",
      "language_Indonesian : -0.06\n",
      "language_Other : 0.01\n",
      "language_Spanish : -0.06\n",
      "language_Unknown : 0.02\n"
     ]
    }
   ],
   "source": [
    "feature_select.extend(['language'])\n",
    "split_and_validate(pd.get_dummies(book_df[feature_select], drop_first=True), target)"
   ]
  },
  {
   "cell_type": "code",
   "execution_count": 583,
   "metadata": {},
   "outputs": [
    {
     "data": {
      "text/plain": [
       "0.9195849425725775"
      ]
     },
     "execution_count": 583,
     "metadata": {},
     "output_type": "execute_result"
    }
   ],
   "source": [
    "kf = KFold(n_splits=5, shuffle=True, random_state = 420)\n",
    "scores = cross_val_score(lm, pd.get_dummies(book_df[feature_select], drop_first=True), target, cv=kf, scoring='r2')\n",
    "np.mean(scores)"
   ]
  },
  {
   "cell_type": "code",
   "execution_count": null,
   "metadata": {},
   "outputs": [],
   "source": []
  }
 ],
 "metadata": {
  "kernelspec": {
   "display_name": "Python 3",
   "language": "python",
   "name": "python3"
  },
  "language_info": {
   "codemirror_mode": {
    "name": "ipython",
    "version": 3
   },
   "file_extension": ".py",
   "mimetype": "text/x-python",
   "name": "python",
   "nbconvert_exporter": "python",
   "pygments_lexer": "ipython3",
   "version": "3.7.3"
  }
 },
 "nbformat": 4,
 "nbformat_minor": 2
}
